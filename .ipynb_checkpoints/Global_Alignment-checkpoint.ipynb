{
 "cells": [
  {
   "cell_type": "markdown",
   "id": "72497b9b-98d3-4e28-ac6e-03b552ab4b50",
   "metadata": {},
   "source": [
    "# Global Alignment: Needleman-Wunsch Algorithm"
   ]
  },
  {
   "cell_type": "markdown",
   "id": "e6b03331-00cd-436e-9d5e-44044d12c787",
   "metadata": {},
   "source": [
    "In this notebook, I will be implementing the Needleman-Wunsch Algorithm. This algorithm is the backbone for aligner and MSA generation."
   ]
  },
  {
   "cell_type": "markdown",
   "id": "312b17f3-a8e7-4e21-9184-b833d6513dc9",
   "metadata": {},
   "source": [
    "#### Resources"
   ]
  },
  {
   "cell_type": "markdown",
   "id": "905a1c6a-390a-4d06-b3a7-315df187346e",
   "metadata": {},
   "source": [
    "A good paper giving an overview of the substitution matrices to use: https://doi.org/10.1002%2Fpro.3954\n",
    "\n",
    "The BLAST sequence aligner and the matrices it uses. https://blast.ncbi.nlm.nih.gov/html/sub_matrix.html\n",
    "\n",
    "Needleman Wunsch Slideshow depiction + substitution matrices info: https://www.cs.sjsu.edu/~aid/cs152/NeedlemanWunsch.pdf"
   ]
  },
  {
   "cell_type": "markdown",
   "id": "0d4d1fdb-ef4f-48a5-970b-70f39a1e7a5f",
   "metadata": {},
   "source": [
    "I am using the BLOSUM62 matrix here as it considered better and newer than PAM. With a gap opening penalty (no gap extension as that is affine alignment, which I will be implementing later) of 10."
   ]
  },
  {
   "cell_type": "code",
   "execution_count": null,
   "id": "9c3bb42d-de23-4895-8b42-0f3770819b54",
   "metadata": {},
   "outputs": [],
   "source": [
    "pip install blosum"
   ]
  },
  {
   "cell_type": "code",
   "execution_count": 5,
   "id": "b8390322-c4c1-4b3c-a85b-6115ba0e7a5f",
   "metadata": {},
   "outputs": [],
   "source": [
    "import numpy as np\n",
    "import blosum as bl"
   ]
  },
  {
   "cell_type": "code",
   "execution_count": 6,
   "id": "6ce5c6ed-28d7-428f-a5c7-4e4cf97af759",
   "metadata": {},
   "outputs": [],
   "source": [
    "matrix = bl.BLOSUM(62)"
   ]
  },
  {
   "cell_type": "code",
   "execution_count": 8,
   "id": "d5c93cdc-ecca-4990-83a1-7de08f7de6a8",
   "metadata": {},
   "outputs": [
    {
     "data": {
      "text/plain": [
       "-2.0"
      ]
     },
     "execution_count": 8,
     "metadata": {},
     "output_type": "execute_result"
    }
   ],
   "source": [
    "val = matrix[\"A\"][\"Y\"]\n",
    "val"
   ]
  },
  {
   "cell_type": "code",
   "execution_count": null,
   "id": "150d3f0f-27d2-4e15-a96b-87a92863d52b",
   "metadata": {},
   "outputs": [],
   "source": []
  },
  {
   "cell_type": "code",
   "execution_count": 3,
   "id": "86883e0a-4161-4423-9ad6-01a548a47225",
   "metadata": {},
   "outputs": [
    {
     "name": "stdin",
     "output_type": "stream",
     "text": [
      "What is your protein sequence one:  hllo\n"
     ]
    }
   ],
   "source": [
    "seq1 = input(\"What is your protein sequence one: \")"
   ]
  },
  {
   "cell_type": "code",
   "execution_count": null,
   "id": "02e27dde-0494-47ad-b53a-73452cf13b0c",
   "metadata": {},
   "outputs": [],
   "source": []
  }
 ],
 "metadata": {
  "kernelspec": {
   "display_name": "Python 3 (ipykernel)",
   "language": "python",
   "name": "python3"
  },
  "language_info": {
   "codemirror_mode": {
    "name": "ipython",
    "version": 3
   },
   "file_extension": ".py",
   "mimetype": "text/x-python",
   "name": "python",
   "nbconvert_exporter": "python",
   "pygments_lexer": "ipython3",
   "version": "3.9.7"
  }
 },
 "nbformat": 4,
 "nbformat_minor": 5
}
