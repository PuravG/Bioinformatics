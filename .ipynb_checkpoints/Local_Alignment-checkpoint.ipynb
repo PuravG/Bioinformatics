{
 "cells": [
  {
   "attachments": {},
   "cell_type": "markdown",
   "id": "72497b9b-98d3-4e28-ac6e-03b552ab4b50",
   "metadata": {},
   "source": [
    "# Local Alignment: Smith-Waterman Algorithm"
   ]
  },
  {
   "cell_type": "markdown",
   "id": "e6b03331-00cd-436e-9d5e-44044d12c787",
   "metadata": {},
   "source": [
    "In this notebook, I will be implementing the Smith-Waterman Algorithm. This algorithm is the next step, graduating from the Global Alignment. It uses the concepts built by the global alignment algorithm to implement a better algorithm that takes gaps into account, and optimizes the gap creation process."
   ]
  },
  {
   "cell_type": "markdown",
   "id": "9a1d76e1-3265-4e0e-8530-b4b25994c0d5",
   "metadata": {},
   "source": [
    "#### TL;DR on Local Alignment"
   ]
  },
  {
   "cell_type": "markdown",
   "id": "58599b8d-a1aa-4a13-8470-6a576fe80e7c",
   "metadata": {},
   "source": [
    "Unlike Global alignments, we are simply finding all of the subsequences of the 2 queries that have a good match to each other. When I say \"good\" match, I am referring to a score of > T. T is the threshold that we can set and this parameter will determine how many subsequences we get from the alignment.\n",
    "\n",
    "So in this notebook, I will find the top n subsequences > threshold T, and output all of them at the end in a formatted way. "
   ]
  },
  {
   "cell_type": "markdown",
   "id": "312b17f3-a8e7-4e21-9184-b833d6513dc9",
   "metadata": {},
   "source": [
    "#### Resources"
   ]
  },
  {
   "cell_type": "markdown",
   "id": "905a1c6a-390a-4d06-b3a7-315df187346e",
   "metadata": {},
   "source": [
    "A good paper giving an overview of the substitution matrices to use: https://doi.org/10.1002%2Fpro.3954\n",
    "\n",
    "The BLAST sequence aligner and the matrices it uses. https://blast.ncbi.nlm.nih.gov/html/sub_matrix.html\n",
    "\n",
    "Smith-Waterman Algo explained: https://en.wikipedia.org/wiki/Smith%E2%80%93Waterman_algorithm#cite_note-Gotoh1982-2"
   ]
  },
  {
   "cell_type": "markdown",
   "id": "0d4d1fdb-ef4f-48a5-970b-70f39a1e7a5f",
   "metadata": {},
   "source": [
    "I am using the BLOSUM62 matrix here as it considered better and newer than PAM. With a gap opening penalty of 10 and gap extension penalty of 1."
   ]
  },
  {
   "cell_type": "code",
   "execution_count": 1,
   "id": "9c3bb42d-de23-4895-8b42-0f3770819b54",
   "metadata": {},
   "outputs": [],
   "source": [
    "#pip install blosum"
   ]
  },
  {
   "cell_type": "code",
   "execution_count": 2,
   "id": "b8390322-c4c1-4b3c-a85b-6115ba0e7a5f",
   "metadata": {},
   "outputs": [],
   "source": [
    "import blosum as bl\n",
    "import numpy as np"
   ]
  },
  {
   "cell_type": "code",
   "execution_count": 3,
   "id": "6ce5c6ed-28d7-428f-a5c7-4e4cf97af759",
   "metadata": {},
   "outputs": [],
   "source": [
    "sub_matrix = bl.BLOSUM(62)"
   ]
  },
  {
   "cell_type": "code",
   "execution_count": 4,
   "id": "d5c93cdc-ecca-4990-83a1-7de08f7de6a8",
   "metadata": {},
   "outputs": [
    {
     "data": {
      "text/plain": [
       "8.0"
      ]
     },
     "execution_count": 4,
     "metadata": {},
     "output_type": "execute_result"
    }
   ],
   "source": [
    "val = sub_matrix[\"H\"][\"H\"]\n",
    "val"
   ]
  },
  {
   "cell_type": "code",
   "execution_count": 5,
   "id": "150d3f0f-27d2-4e15-a96b-87a92863d52b",
   "metadata": {},
   "outputs": [],
   "source": [
    "gap_open = 8\n",
    "gap_ext = 1"
   ]
  },
  {
   "cell_type": "code",
   "execution_count": 6,
   "id": "76a637fb-3bdb-4277-9474-3af9145cd736",
   "metadata": {},
   "outputs": [],
   "source": [
    "amino_acids = ['A', 'C', 'D', 'E', 'F', 'G', 'H', 'I', 'K', 'L', 'M', 'N', 'P', 'Q', 'R', 'S', 'T', 'V', 'W', 'Y']"
   ]
  },
  {
   "cell_type": "code",
   "execution_count": 7,
   "id": "dfff7644-a560-404a-a053-4a36d8bb1b03",
   "metadata": {},
   "outputs": [],
   "source": [
    "seq1 = 'heagawghee'.upper()\n",
    "seq2 = 'pawheae'.upper()"
   ]
  },
  {
   "cell_type": "markdown",
   "id": "259f225f-a89a-4a6b-816a-2fe44515cfdd",
   "metadata": {},
   "source": [
    "```\n",
    "while True:\n",
    "    seq1 = input(\"What is your first protein sequence: \").upper()  # Convert input to uppercase to ensure consistency\n",
    "    valid_sequence = True\n",
    "    for i in seq1:\n",
    "        if i not in amino_acids:\n",
    "            valid_sequence = False\n",
    "            print(f\"Invalid character '{i}' found in the sequence. Please enter a valid protein sequence.\\n\")\n",
    "            break\n",
    "    if valid_sequence:\n",
    "        print(\"Protein sequence is valid.\")\n",
    "        break"
   ]
  },
  {
   "cell_type": "markdown",
   "id": "c17f7242-ed2f-44c8-8985-9bbdacac1d09",
   "metadata": {},
   "source": [
    "```\n",
    "while True:\n",
    "    seq2 = input(\"What is your second protein sequence: \").upper()  # Convert input to uppercase to ensure consistency\n",
    "    valid_sequence = True\n",
    "    for i in seq2:\n",
    "        if i not in amino_acids:\n",
    "            valid_sequence = False\n",
    "            print(f\"Invalid character '{i}' found in the sequence. Please enter a valid protein sequence.\\n\")\n",
    "            break\n",
    "    if valid_sequence:\n",
    "        print(\"Protein sequence is valid.\")\n",
    "        break"
   ]
  },
  {
   "cell_type": "markdown",
   "id": "7f6488dd-28ff-4b6e-8c52-66140a351204",
   "metadata": {},
   "source": [
    "## Initializing the Calculation and Traceback Matrix"
   ]
  },
  {
   "cell_type": "code",
   "execution_count": 8,
   "id": "28944c01-ddd2-4cb9-ad1a-00ca414512d6",
   "metadata": {},
   "outputs": [],
   "source": [
    "matrix = []\n",
    "for i in range(len(seq2)+1):\n",
    "    matrix.append([0] * (len(seq1)+1))"
   ]
  },
  {
   "cell_type": "code",
   "execution_count": 9,
   "id": "4445356d-cea9-4abe-9f1f-b35b7520c748",
   "metadata": {},
   "outputs": [
    {
     "data": {
      "text/plain": [
       "array([[0, 0, 0, 0, 0, 0, 0, 0, 0, 0, 0],\n",
       "       [0, 0, 0, 0, 0, 0, 0, 0, 0, 0, 0],\n",
       "       [0, 0, 0, 0, 0, 0, 0, 0, 0, 0, 0],\n",
       "       [0, 0, 0, 0, 0, 0, 0, 0, 0, 0, 0],\n",
       "       [0, 0, 0, 0, 0, 0, 0, 0, 0, 0, 0],\n",
       "       [0, 0, 0, 0, 0, 0, 0, 0, 0, 0, 0],\n",
       "       [0, 0, 0, 0, 0, 0, 0, 0, 0, 0, 0],\n",
       "       [0, 0, 0, 0, 0, 0, 0, 0, 0, 0, 0]])"
      ]
     },
     "execution_count": 9,
     "metadata": {},
     "output_type": "execute_result"
    }
   ],
   "source": [
    "matrix = np.array([l for l in matrix])\n",
    "matrix"
   ]
  },
  {
   "cell_type": "code",
   "execution_count": 10,
   "id": "37dc9016-678c-44e8-adf4-4af499a30893",
   "metadata": {
    "scrolled": true
   },
   "outputs": [
    {
     "name": "stdout",
     "output_type": "stream",
     "text": [
      "[None, (0, 0), (0, 0), (0, 0), (0, 0), (0, 0), (0, 0), (0, 0), (0, 0), (0, 0), (0, 0)]\n",
      "[(0, 0), (0, 0), (0, 0), (0, 0), (0, 0), (0, 0), (0, 0), (0, 0), (0, 0), (0, 0), (0, 0)]\n",
      "[(0, 0), (0, 0), (0, 0), (0, 0), (0, 0), (0, 0), (0, 0), (0, 0), (0, 0), (0, 0), (0, 0)]\n",
      "[(0, 0), (0, 0), (0, 0), (0, 0), (0, 0), (0, 0), (0, 0), (0, 0), (0, 0), (0, 0), (0, 0)]\n",
      "[(0, 0), (0, 0), (0, 0), (0, 0), (0, 0), (0, 0), (0, 0), (0, 0), (0, 0), (0, 0), (0, 0)]\n",
      "[(0, 0), (0, 0), (0, 0), (0, 0), (0, 0), (0, 0), (0, 0), (0, 0), (0, 0), (0, 0), (0, 0)]\n",
      "[(0, 0), (0, 0), (0, 0), (0, 0), (0, 0), (0, 0), (0, 0), (0, 0), (0, 0), (0, 0), (0, 0)]\n",
      "[(0, 0), (0, 0), (0, 0), (0, 0), (0, 0), (0, 0), (0, 0), (0, 0), (0, 0), (0, 0), (0, 0)]\n"
     ]
    }
   ],
   "source": [
    "traceback_matrix = []\n",
    "for i in range(len(seq2)+1):\n",
    "    traceback_matrix.append([tuple((0,0)) for x in range((len(seq1)+1))])\n",
    "traceback_matrix[0][0]=None\n",
    "for i in traceback_matrix:\n",
    "    print(i)"
   ]
  },
  {
   "cell_type": "markdown",
   "id": "d1209f66-64c2-405f-ae4b-88c0ecff2039",
   "metadata": {},
   "source": [
    "___"
   ]
  },
  {
   "cell_type": "code",
   "execution_count": 11,
   "id": "db93f400-0fc5-4b78-b2de-9db4c715b234",
   "metadata": {},
   "outputs": [
    {
     "data": {
      "text/plain": [
       "array([[0, 0, 0, 0, 0, 0, 0, 0, 0, 0, 0],\n",
       "       [0, 0, 0, 0, 0, 0, 0, 0, 0, 0, 0],\n",
       "       [0, 0, 0, 0, 0, 0, 0, 0, 0, 0, 0],\n",
       "       [0, 0, 0, 0, 0, 0, 0, 0, 0, 0, 0],\n",
       "       [0, 0, 0, 0, 0, 0, 0, 0, 0, 0, 0],\n",
       "       [0, 0, 0, 0, 0, 0, 0, 0, 0, 0, 0],\n",
       "       [0, 0, 0, 0, 0, 0, 0, 0, 0, 0, 0],\n",
       "       [0, 0, 0, 0, 0, 0, 0, 0, 0, 0, 0]])"
      ]
     },
     "execution_count": 11,
     "metadata": {},
     "output_type": "execute_result"
    }
   ],
   "source": [
    "matrix"
   ]
  },
  {
   "cell_type": "code",
   "execution_count": 12,
   "id": "818b69c3-18b5-4039-a42d-cf901d86dffb",
   "metadata": {
    "scrolled": true
   },
   "outputs": [
    {
     "name": "stdout",
     "output_type": "stream",
     "text": [
      "[None, (0, 0), (0, 0), (0, 0), (0, 0), (0, 0), (0, 0), (0, 0), (0, 0), (0, 0), (0, 0)]\n",
      "[(0, 0), (0, 0), (0, 0), (0, 0), (0, 0), (0, 0), (0, 0), (0, 0), (0, 0), (0, 0), (0, 0)]\n",
      "[(0, 0), (0, 0), (0, 0), (0, 0), (0, 0), (0, 0), (0, 0), (0, 0), (0, 0), (0, 0), (0, 0)]\n",
      "[(0, 0), (0, 0), (0, 0), (0, 0), (0, 0), (0, 0), (0, 0), (0, 0), (0, 0), (0, 0), (0, 0)]\n",
      "[(0, 0), (0, 0), (0, 0), (0, 0), (0, 0), (0, 0), (0, 0), (0, 0), (0, 0), (0, 0), (0, 0)]\n",
      "[(0, 0), (0, 0), (0, 0), (0, 0), (0, 0), (0, 0), (0, 0), (0, 0), (0, 0), (0, 0), (0, 0)]\n",
      "[(0, 0), (0, 0), (0, 0), (0, 0), (0, 0), (0, 0), (0, 0), (0, 0), (0, 0), (0, 0), (0, 0)]\n",
      "[(0, 0), (0, 0), (0, 0), (0, 0), (0, 0), (0, 0), (0, 0), (0, 0), (0, 0), (0, 0), (0, 0)]\n"
     ]
    }
   ],
   "source": [
    "for i in traceback_matrix:\n",
    "    print(i)"
   ]
  },
  {
   "cell_type": "markdown",
   "id": "93fb5ef2-b10a-4b33-aa12-be35204d1110",
   "metadata": {},
   "source": [
    "This is recursive"
   ]
  },
  {
   "cell_type": "markdown",
   "id": "88de6b6b-5bea-4164-b7c6-fc1f4fc1439d",
   "metadata": {},
   "source": [
    "## Calculating all positions in the calculation matrix"
   ]
  },
  {
   "cell_type": "code",
   "execution_count": 13,
   "id": "45d71b69-c215-4a0d-ad64-df4f355a29dd",
   "metadata": {},
   "outputs": [],
   "source": [
    "for i in range(len(seq1)):\n",
    "    for j in range(len(seq2)):\n",
    "        zero = 0\n",
    "        match = matrix[j][i] + sub_matrix[seq1[i]][seq2[j]]\n",
    "        gapx = matrix[j+1][i] - gap_open\n",
    "        gapy = matrix[j][i+1] - gap_open\n",
    "\n",
    "        largest_value = max(zero, match,gapx,gapy)\n",
    "        matrix[j+1][i+1] = largest_value\n",
    "        if largest_value==match:\n",
    "            traceback_matrix[j+1][i+1] = tuple((j,i))\n",
    "        elif largest_value==gapx:\n",
    "            traceback_matrix[j+1][i+1] = tuple((j+1,i))\n",
    "        elif largest_value==gapy:\n",
    "            traceback_matrix[j+1][i+1] = tuple((j,i+1))\n",
    "        elif largest_value==zero:\n",
    "            traceback_matrix[j+1][i+1] = None"
   ]
  },
  {
   "cell_type": "code",
   "execution_count": 14,
   "id": "ea0dfb61-4820-4da9-a971-a1ce597f331e",
   "metadata": {},
   "outputs": [
    {
     "data": {
      "text/plain": [
       "array([[ 0,  0,  0,  0,  0,  0,  0,  0,  0,  0,  0],\n",
       "       [ 0,  0,  0,  0,  0,  0,  0,  0,  0,  0,  0],\n",
       "       [ 0,  0,  0,  4,  0,  4,  0,  0,  0,  0,  0],\n",
       "       [ 0,  0,  0,  0,  2,  0, 15,  7,  0,  0,  0],\n",
       "       [ 0,  8,  0,  0,  0,  0,  7, 13, 15,  7,  0],\n",
       "       [ 0,  0, 13,  5,  0,  0,  0,  5, 13, 20, 12],\n",
       "       [ 0,  0,  5, 17,  9,  4,  0,  0,  5, 12, 19],\n",
       "       [ 0,  0,  5,  9, 15,  8,  1,  0,  0, 10, 17]])"
      ]
     },
     "execution_count": 14,
     "metadata": {},
     "output_type": "execute_result"
    }
   ],
   "source": [
    "matrix"
   ]
  },
  {
   "cell_type": "code",
   "execution_count": 15,
   "id": "b3a869c4-5ff4-46f7-aefe-9170c4f4fc19",
   "metadata": {},
   "outputs": [
    {
     "name": "stdout",
     "output_type": "stream",
     "text": [
      "[None, (0, 0), (0, 0), (0, 0), (0, 0), (0, 0), (0, 0), (0, 0), (0, 0), (0, 0), (0, 0)]\n",
      "[(0, 0), None, None, None, None, None, None, None, None, None, None]\n",
      "[(0, 0), None, None, (1, 2), (1, 3), (1, 4), None, (1, 6), None, None, None]\n",
      "[(0, 0), None, None, None, (2, 3), None, (2, 5), (3, 6), None, None, None]\n",
      "[(0, 0), (3, 0), (3, 1), None, None, (3, 4), (3, 6), (3, 6), (3, 7), (4, 8), (3, 9)]\n",
      "[(0, 0), (4, 0), (4, 1), (5, 2), None, None, None, (4, 6), (4, 7), (4, 8), (4, 9)]\n",
      "[(0, 0), None, (5, 2), (5, 2), (6, 3), (5, 4), None, (5, 6), (5, 8), (5, 8), (5, 9)]\n",
      "[(0, 0), (6, 0), (6, 1), (6, 3), (6, 3), (6, 4), (6, 5), None, (6, 7), (6, 8), (6, 9)]\n"
     ]
    }
   ],
   "source": [
    "for i in traceback_matrix:\n",
    "    print(i)"
   ]
  },
  {
   "cell_type": "code",
   "execution_count": 16,
   "id": "187248e2-f769-4623-bf7c-1ab20b8f066f",
   "metadata": {},
   "outputs": [
    {
     "name": "stdout",
     "output_type": "stream",
     "text": [
      "20\n",
      "(5, 9)\n"
     ]
    }
   ],
   "source": [
    "def get_maximum(matrix):\n",
    "    maximum = matrix.max()\n",
    "    max_index = tuple((0,0))\n",
    "    for y_indx, row_y in enumerate(matrix):\n",
    "        for x_indx, x in enumerate(row_y):\n",
    "            if x==maximum:\n",
    "                max_index = tuple((y_indx, x_indx))\n",
    "    return maximum, max_index\n",
    "\n",
    "maximum, max_index = get_maximum(matrix)\n",
    "\n",
    "print(matrix[max_index[0]][max_index[1]])\n",
    "print(max_index)"
   ]
  },
  {
   "cell_type": "code",
   "execution_count": 17,
   "id": "35c8ab13-f219-4649-8026-daa3d90d3691",
   "metadata": {},
   "outputs": [],
   "source": [
    "def traceback1(coords):\n",
    "    if traceback_matrix[coords[0]][coords[1]] is None or traceback_matrix[coords[0]][coords[1]] is tuple((0,0)):\n",
    "        return \"\"\n",
    "    else:\n",
    "        back = traceback_matrix[coords[0]][coords[1]]\n",
    "        if (coords[1]-back[1])==1:\n",
    "            return traceback1(back) + seq1[coords[1]-1]\n",
    "        elif (coords[1]-back[1])==0:\n",
    "            return traceback1(back) + \"-\""
   ]
  },
  {
   "cell_type": "code",
   "execution_count": 18,
   "id": "338252c3-9d7b-40c7-8ffc-891b82e94564",
   "metadata": {},
   "outputs": [],
   "source": [
    "def traceback2(coords):\n",
    "    if traceback_matrix[coords[0]][coords[1]] is None or traceback_matrix[coords[0]][coords[1]] is tuple((0,0)):\n",
    "        return \"\"\n",
    "    else:\n",
    "        back = traceback_matrix[coords[0]][coords[1]]\n",
    "        if (coords[0]-back[0])==1:\n",
    "            return traceback2(back) + seq2[coords[0]-1]\n",
    "        elif (coords[0]-back[0])==0:\n",
    "            return traceback2(back) + \"-\""
   ]
  },
  {
   "cell_type": "code",
   "execution_count": 19,
   "id": "16e595f2-447c-4cd5-b272-c07cdc79f62e",
   "metadata": {},
   "outputs": [],
   "source": [
    "answer1 = traceback1(max_index)\n",
    "answer2 = traceback2(max_index)"
   ]
  },
  {
   "cell_type": "code",
   "execution_count": 20,
   "id": "e804a642-a542-4d43-9372-c02b9eecab99",
   "metadata": {},
   "outputs": [
    {
     "data": {
      "text/plain": [
       "'AWGHE'"
      ]
     },
     "execution_count": 20,
     "metadata": {},
     "output_type": "execute_result"
    }
   ],
   "source": [
    "answer1"
   ]
  },
  {
   "cell_type": "code",
   "execution_count": 21,
   "id": "ad8bb47f-dbb7-4395-88c9-2e0649c61985",
   "metadata": {},
   "outputs": [
    {
     "data": {
      "text/plain": [
       "'AW-HE'"
      ]
     },
     "execution_count": 21,
     "metadata": {},
     "output_type": "execute_result"
    }
   ],
   "source": [
    "answer2"
   ]
  },
  {
   "cell_type": "code",
   "execution_count": 22,
   "id": "1e8c883a-fc90-4a8c-b71f-baf5f4db39ff",
   "metadata": {},
   "outputs": [
    {
     "name": "stdout",
     "output_type": "stream",
     "text": [
      "These are your original sequences:\n",
      "HEAGAWGHEE\n",
      "PAWHEAE\n",
      "\n",
      "These are the aligned sequences:\n",
      "AWGHE\n",
      "AW-HE\n"
     ]
    }
   ],
   "source": [
    "print(\"These are your original sequences:\")\n",
    "print(seq1)\n",
    "print(seq2)\n",
    "print()\n",
    "print(\"These are the aligned sequences:\")\n",
    "print(answer1)\n",
    "print(answer2)"
   ]
  },
  {
   "cell_type": "code",
   "execution_count": null,
   "id": "e108eeca-9091-49b9-808e-aeb757f017b2",
   "metadata": {},
   "outputs": [],
   "source": []
  }
 ],
 "metadata": {
  "kernelspec": {
   "display_name": "Python 3 (ipykernel)",
   "language": "python",
   "name": "python3"
  },
  "language_info": {
   "codemirror_mode": {
    "name": "ipython",
    "version": 3
   },
   "file_extension": ".py",
   "mimetype": "text/x-python",
   "name": "python",
   "nbconvert_exporter": "python",
   "pygments_lexer": "ipython3",
   "version": "3.9.7"
  }
 },
 "nbformat": 4,
 "nbformat_minor": 5
}
