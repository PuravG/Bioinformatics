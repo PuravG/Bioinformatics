{
 "cells": [
  {
   "cell_type": "markdown",
   "id": "72497b9b-98d3-4e28-ac6e-03b552ab4b50",
   "metadata": {},
   "source": [
    "# Global Alignment: Needleman-Wunsch Algorithm"
   ]
  },
  {
   "cell_type": "markdown",
   "id": "e6b03331-00cd-436e-9d5e-44044d12c787",
   "metadata": {},
   "source": [
    "In this notebook, I will be implementing the Needleman-Wunsch Algorithm. This algorithm is the backbone for aligner and MSA generation."
   ]
  },
  {
   "cell_type": "markdown",
   "id": "312b17f3-a8e7-4e21-9184-b833d6513dc9",
   "metadata": {},
   "source": [
    "#### Resources"
   ]
  },
  {
   "cell_type": "markdown",
   "id": "905a1c6a-390a-4d06-b3a7-315df187346e",
   "metadata": {},
   "source": [
    "A good paper giving an overview of the substitution matrices to use: https://doi.org/10.1002%2Fpro.3954\n",
    "\n",
    "The BLAST sequence aligner and the matrices it uses. https://blast.ncbi.nlm.nih.gov/html/sub_matrix.html\n",
    "\n",
    "Needleman Wunsch Slideshow depiction + substitution matrices info: https://www.cs.sjsu.edu/~aid/cs152/NeedlemanWunsch.pdf"
   ]
  },
  {
   "cell_type": "markdown",
   "id": "0d4d1fdb-ef4f-48a5-970b-70f39a1e7a5f",
   "metadata": {},
   "source": [
    "I am using the BLOSUM62 matrix here as it considered better and newer than PAM. With a gap opening penalty (no gap extension as that is affine alignment, which I will be implementing later) of 10."
   ]
  },
  {
   "cell_type": "code",
   "execution_count": 1,
   "id": "9c3bb42d-de23-4895-8b42-0f3770819b54",
   "metadata": {},
   "outputs": [],
   "source": [
    "#pip install blosum"
   ]
  },
  {
   "cell_type": "code",
   "execution_count": 2,
   "id": "b8390322-c4c1-4b3c-a85b-6115ba0e7a5f",
   "metadata": {},
   "outputs": [],
   "source": [
    "import numpy as np\n",
    "import blosum as bl"
   ]
  },
  {
   "cell_type": "code",
   "execution_count": 3,
   "id": "6ce5c6ed-28d7-428f-a5c7-4e4cf97af759",
   "metadata": {},
   "outputs": [],
   "source": [
    "sub_matrix = bl.BLOSUM(62)"
   ]
  },
  {
   "cell_type": "code",
   "execution_count": 4,
   "id": "d5c93cdc-ecca-4990-83a1-7de08f7de6a8",
   "metadata": {},
   "outputs": [
    {
     "data": {
      "text/plain": [
       "8.0"
      ]
     },
     "execution_count": 4,
     "metadata": {},
     "output_type": "execute_result"
    }
   ],
   "source": [
    "val = sub_matrix[\"H\"][\"H\"]\n",
    "val"
   ]
  },
  {
   "cell_type": "code",
   "execution_count": 5,
   "id": "150d3f0f-27d2-4e15-a96b-87a92863d52b",
   "metadata": {},
   "outputs": [],
   "source": [
    "gap = 8"
   ]
  },
  {
   "cell_type": "code",
   "execution_count": 6,
   "id": "76a637fb-3bdb-4277-9474-3af9145cd736",
   "metadata": {},
   "outputs": [],
   "source": [
    "amino_acids = ['A', 'C', 'D', 'E', 'F', 'G', 'H', 'I', 'K', 'L', 'M', 'N', 'P', 'Q', 'R', 'S', 'T', 'V', 'W', 'Y']"
   ]
  },
  {
   "cell_type": "code",
   "execution_count": 7,
   "id": "86883e0a-4161-4423-9ad6-01a548a47225",
   "metadata": {},
   "outputs": [
    {
     "name": "stdin",
     "output_type": "stream",
     "text": [
      "What is your first protein sequence:  heagawghee\n"
     ]
    },
    {
     "name": "stdout",
     "output_type": "stream",
     "text": [
      "Protein sequence is valid.\n"
     ]
    }
   ],
   "source": [
    "while True:\n",
    "    seq1 = input(\"What is your first protein sequence: \").upper()  # Convert input to uppercase to ensure consistency\n",
    "    valid_sequence = True\n",
    "    for i in seq1:\n",
    "        if i not in amino_acids:\n",
    "            valid_sequence = False\n",
    "            print(f\"Invalid character '{i}' found in the sequence. Please enter a valid protein sequence.\\n\")\n",
    "            break\n",
    "    if valid_sequence:\n",
    "        print(\"Protein sequence is valid.\")\n",
    "        break"
   ]
  },
  {
   "cell_type": "code",
   "execution_count": 8,
   "id": "fac12c20-f63f-4da3-b197-0c1ec8c66fb5",
   "metadata": {},
   "outputs": [
    {
     "name": "stdin",
     "output_type": "stream",
     "text": [
      "What is your second protein sequence:  pawheae\n"
     ]
    },
    {
     "name": "stdout",
     "output_type": "stream",
     "text": [
      "Protein sequence is valid.\n"
     ]
    }
   ],
   "source": [
    "while True:\n",
    "    seq2 = input(\"What is your second protein sequence: \").upper()  # Convert input to uppercase to ensure consistency\n",
    "    valid_sequence = True\n",
    "    for i in seq2:\n",
    "        if i not in amino_acids:\n",
    "            valid_sequence = False\n",
    "            print(f\"Invalid character '{i}' found in the sequence. Please enter a valid protein sequence.\\n\")\n",
    "            break\n",
    "    if valid_sequence:\n",
    "        print(\"Protein sequence is valid.\")\n",
    "        break"
   ]
  },
  {
   "cell_type": "markdown",
   "id": "7f6488dd-28ff-4b6e-8c52-66140a351204",
   "metadata": {},
   "source": [
    "## Initializing the Calculation and Traceback Matrix"
   ]
  },
  {
   "cell_type": "code",
   "execution_count": 9,
   "id": "28944c01-ddd2-4cb9-ad1a-00ca414512d6",
   "metadata": {},
   "outputs": [],
   "source": [
    "matrix = []\n",
    "for i in range(len(seq2)+1):\n",
    "    matrix.append([0] * (len(seq1)+1))"
   ]
  },
  {
   "cell_type": "code",
   "execution_count": 10,
   "id": "4445356d-cea9-4abe-9f1f-b35b7520c748",
   "metadata": {},
   "outputs": [
    {
     "data": {
      "text/plain": [
       "[[0, 0, 0, 0, 0, 0, 0, 0, 0, 0, 0],\n",
       " [0, 0, 0, 0, 0, 0, 0, 0, 0, 0, 0],\n",
       " [0, 0, 0, 0, 0, 0, 0, 0, 0, 0, 0],\n",
       " [0, 0, 0, 0, 0, 0, 0, 0, 0, 0, 0],\n",
       " [0, 0, 0, 0, 0, 0, 0, 0, 0, 0, 0],\n",
       " [0, 0, 0, 0, 0, 0, 0, 0, 0, 0, 0],\n",
       " [0, 0, 0, 0, 0, 0, 0, 0, 0, 0, 0],\n",
       " [0, 0, 0, 0, 0, 0, 0, 0, 0, 0, 0]]"
      ]
     },
     "execution_count": 10,
     "metadata": {},
     "output_type": "execute_result"
    }
   ],
   "source": [
    "matrix"
   ]
  },
  {
   "cell_type": "code",
   "execution_count": 11,
   "id": "e0844cc6-16ac-4f2b-a368-60ad78ffdc13",
   "metadata": {},
   "outputs": [],
   "source": [
    "for column, val in enumerate(matrix[0]):\n",
    "    matrix[0][column] = -1*gap*column"
   ]
  },
  {
   "cell_type": "code",
   "execution_count": 12,
   "id": "c0a42a98-8ab8-4ed4-a21d-4593c82ae53f",
   "metadata": {},
   "outputs": [
    {
     "data": {
      "text/plain": [
       "[[0, -8, -16, -24, -32, -40, -48, -56, -64, -72, -80],\n",
       " [0, 0, 0, 0, 0, 0, 0, 0, 0, 0, 0],\n",
       " [0, 0, 0, 0, 0, 0, 0, 0, 0, 0, 0],\n",
       " [0, 0, 0, 0, 0, 0, 0, 0, 0, 0, 0],\n",
       " [0, 0, 0, 0, 0, 0, 0, 0, 0, 0, 0],\n",
       " [0, 0, 0, 0, 0, 0, 0, 0, 0, 0, 0],\n",
       " [0, 0, 0, 0, 0, 0, 0, 0, 0, 0, 0],\n",
       " [0, 0, 0, 0, 0, 0, 0, 0, 0, 0, 0]]"
      ]
     },
     "execution_count": 12,
     "metadata": {},
     "output_type": "execute_result"
    }
   ],
   "source": [
    "matrix"
   ]
  },
  {
   "cell_type": "code",
   "execution_count": 13,
   "id": "ad0c6f17-d243-4925-a859-05352a87f174",
   "metadata": {},
   "outputs": [],
   "source": [
    "for column, row in enumerate(matrix):\n",
    "    row[0] = column*-1*gap"
   ]
  },
  {
   "cell_type": "code",
   "execution_count": 14,
   "id": "006c560e-ef67-44e4-ba5c-e7670880ddbf",
   "metadata": {},
   "outputs": [
    {
     "data": {
      "text/plain": [
       "[[0, -8, -16, -24, -32, -40, -48, -56, -64, -72, -80],\n",
       " [-8, 0, 0, 0, 0, 0, 0, 0, 0, 0, 0],\n",
       " [-16, 0, 0, 0, 0, 0, 0, 0, 0, 0, 0],\n",
       " [-24, 0, 0, 0, 0, 0, 0, 0, 0, 0, 0],\n",
       " [-32, 0, 0, 0, 0, 0, 0, 0, 0, 0, 0],\n",
       " [-40, 0, 0, 0, 0, 0, 0, 0, 0, 0, 0],\n",
       " [-48, 0, 0, 0, 0, 0, 0, 0, 0, 0, 0],\n",
       " [-56, 0, 0, 0, 0, 0, 0, 0, 0, 0, 0]]"
      ]
     },
     "execution_count": 14,
     "metadata": {},
     "output_type": "execute_result"
    }
   ],
   "source": [
    "matrix"
   ]
  },
  {
   "cell_type": "code",
   "execution_count": 15,
   "id": "37dc9016-678c-44e8-adf4-4af499a30893",
   "metadata": {
    "scrolled": true
   },
   "outputs": [
    {
     "name": "stdout",
     "output_type": "stream",
     "text": [
      "[None, (0, 0), (0, 0), (0, 0), (0, 0), (0, 0), (0, 0), (0, 0), (0, 0), (0, 0), (0, 0)]\n",
      "[(0, 0), (0, 0), (0, 0), (0, 0), (0, 0), (0, 0), (0, 0), (0, 0), (0, 0), (0, 0), (0, 0)]\n",
      "[(0, 0), (0, 0), (0, 0), (0, 0), (0, 0), (0, 0), (0, 0), (0, 0), (0, 0), (0, 0), (0, 0)]\n",
      "[(0, 0), (0, 0), (0, 0), (0, 0), (0, 0), (0, 0), (0, 0), (0, 0), (0, 0), (0, 0), (0, 0)]\n",
      "[(0, 0), (0, 0), (0, 0), (0, 0), (0, 0), (0, 0), (0, 0), (0, 0), (0, 0), (0, 0), (0, 0)]\n",
      "[(0, 0), (0, 0), (0, 0), (0, 0), (0, 0), (0, 0), (0, 0), (0, 0), (0, 0), (0, 0), (0, 0)]\n",
      "[(0, 0), (0, 0), (0, 0), (0, 0), (0, 0), (0, 0), (0, 0), (0, 0), (0, 0), (0, 0), (0, 0)]\n",
      "[(0, 0), (0, 0), (0, 0), (0, 0), (0, 0), (0, 0), (0, 0), (0, 0), (0, 0), (0, 0), (0, 0)]\n"
     ]
    }
   ],
   "source": [
    "traceback_matrix = []\n",
    "for i in range(len(seq2)+1):\n",
    "    traceback_matrix.append([tuple((0,0)) for x in range((len(seq1)+1))])\n",
    "traceback_matrix[0][0]=None\n",
    "for i in traceback_matrix:\n",
    "    print(i)"
   ]
  },
  {
   "cell_type": "code",
   "execution_count": 16,
   "id": "45faa831-0d22-4dcc-b57c-1fe0b5d62a95",
   "metadata": {
    "scrolled": true
   },
   "outputs": [
    {
     "name": "stdout",
     "output_type": "stream",
     "text": [
      "[None, (0, 0), (0, 1), (0, 2), (0, 3), (0, 4), (0, 5), (0, 6), (0, 7), (0, 8), (0, 9)]\n",
      "[(0, 0), (0, 0), (0, 0), (0, 0), (0, 0), (0, 0), (0, 0), (0, 0), (0, 0), (0, 0), (0, 0)]\n",
      "[(0, 0), (0, 0), (0, 0), (0, 0), (0, 0), (0, 0), (0, 0), (0, 0), (0, 0), (0, 0), (0, 0)]\n",
      "[(0, 0), (0, 0), (0, 0), (0, 0), (0, 0), (0, 0), (0, 0), (0, 0), (0, 0), (0, 0), (0, 0)]\n",
      "[(0, 0), (0, 0), (0, 0), (0, 0), (0, 0), (0, 0), (0, 0), (0, 0), (0, 0), (0, 0), (0, 0)]\n",
      "[(0, 0), (0, 0), (0, 0), (0, 0), (0, 0), (0, 0), (0, 0), (0, 0), (0, 0), (0, 0), (0, 0)]\n",
      "[(0, 0), (0, 0), (0, 0), (0, 0), (0, 0), (0, 0), (0, 0), (0, 0), (0, 0), (0, 0), (0, 0)]\n",
      "[(0, 0), (0, 0), (0, 0), (0, 0), (0, 0), (0, 0), (0, 0), (0, 0), (0, 0), (0, 0), (0, 0)]\n"
     ]
    }
   ],
   "source": [
    "for i in range(1,len(seq1)+1):\n",
    "    traceback_matrix[0][i] = tuple((0,i-1))\n",
    "for i in traceback_matrix:\n",
    "    print(i)"
   ]
  },
  {
   "cell_type": "code",
   "execution_count": 17,
   "id": "c2873540-ce5a-4f85-98e8-e7ace42d0e48",
   "metadata": {
    "scrolled": true
   },
   "outputs": [
    {
     "name": "stdout",
     "output_type": "stream",
     "text": [
      "[None, (0, 0), (0, 1), (0, 2), (0, 3), (0, 4), (0, 5), (0, 6), (0, 7), (0, 8), (0, 9)]\n",
      "[(0, 0), (0, 0), (0, 0), (0, 0), (0, 0), (0, 0), (0, 0), (0, 0), (0, 0), (0, 0), (0, 0)]\n",
      "[(1, 0), (0, 0), (0, 0), (0, 0), (0, 0), (0, 0), (0, 0), (0, 0), (0, 0), (0, 0), (0, 0)]\n",
      "[(2, 0), (0, 0), (0, 0), (0, 0), (0, 0), (0, 0), (0, 0), (0, 0), (0, 0), (0, 0), (0, 0)]\n",
      "[(3, 0), (0, 0), (0, 0), (0, 0), (0, 0), (0, 0), (0, 0), (0, 0), (0, 0), (0, 0), (0, 0)]\n",
      "[(4, 0), (0, 0), (0, 0), (0, 0), (0, 0), (0, 0), (0, 0), (0, 0), (0, 0), (0, 0), (0, 0)]\n",
      "[(5, 0), (0, 0), (0, 0), (0, 0), (0, 0), (0, 0), (0, 0), (0, 0), (0, 0), (0, 0), (0, 0)]\n",
      "[(6, 0), (0, 0), (0, 0), (0, 0), (0, 0), (0, 0), (0, 0), (0, 0), (0, 0), (0, 0), (0, 0)]\n"
     ]
    }
   ],
   "source": [
    "for i in range(1,len(seq2)+1):\n",
    "    traceback_matrix[i][0] = tuple((i-1,0))\n",
    "for i in traceback_matrix:\n",
    "    print(i)"
   ]
  },
  {
   "cell_type": "markdown",
   "id": "d1209f66-64c2-405f-ae4b-88c0ecff2039",
   "metadata": {},
   "source": [
    "___"
   ]
  },
  {
   "cell_type": "code",
   "execution_count": 18,
   "id": "db93f400-0fc5-4b78-b2de-9db4c715b234",
   "metadata": {},
   "outputs": [
    {
     "data": {
      "text/plain": [
       "[[0, -8, -16, -24, -32, -40, -48, -56, -64, -72, -80],\n",
       " [-8, 0, 0, 0, 0, 0, 0, 0, 0, 0, 0],\n",
       " [-16, 0, 0, 0, 0, 0, 0, 0, 0, 0, 0],\n",
       " [-24, 0, 0, 0, 0, 0, 0, 0, 0, 0, 0],\n",
       " [-32, 0, 0, 0, 0, 0, 0, 0, 0, 0, 0],\n",
       " [-40, 0, 0, 0, 0, 0, 0, 0, 0, 0, 0],\n",
       " [-48, 0, 0, 0, 0, 0, 0, 0, 0, 0, 0],\n",
       " [-56, 0, 0, 0, 0, 0, 0, 0, 0, 0, 0]]"
      ]
     },
     "execution_count": 18,
     "metadata": {},
     "output_type": "execute_result"
    }
   ],
   "source": [
    "matrix"
   ]
  },
  {
   "cell_type": "code",
   "execution_count": 19,
   "id": "818b69c3-18b5-4039-a42d-cf901d86dffb",
   "metadata": {
    "scrolled": true
   },
   "outputs": [
    {
     "name": "stdout",
     "output_type": "stream",
     "text": [
      "[None, (0, 0), (0, 1), (0, 2), (0, 3), (0, 4), (0, 5), (0, 6), (0, 7), (0, 8), (0, 9)]\n",
      "[(0, 0), (0, 0), (0, 0), (0, 0), (0, 0), (0, 0), (0, 0), (0, 0), (0, 0), (0, 0), (0, 0)]\n",
      "[(1, 0), (0, 0), (0, 0), (0, 0), (0, 0), (0, 0), (0, 0), (0, 0), (0, 0), (0, 0), (0, 0)]\n",
      "[(2, 0), (0, 0), (0, 0), (0, 0), (0, 0), (0, 0), (0, 0), (0, 0), (0, 0), (0, 0), (0, 0)]\n",
      "[(3, 0), (0, 0), (0, 0), (0, 0), (0, 0), (0, 0), (0, 0), (0, 0), (0, 0), (0, 0), (0, 0)]\n",
      "[(4, 0), (0, 0), (0, 0), (0, 0), (0, 0), (0, 0), (0, 0), (0, 0), (0, 0), (0, 0), (0, 0)]\n",
      "[(5, 0), (0, 0), (0, 0), (0, 0), (0, 0), (0, 0), (0, 0), (0, 0), (0, 0), (0, 0), (0, 0)]\n",
      "[(6, 0), (0, 0), (0, 0), (0, 0), (0, 0), (0, 0), (0, 0), (0, 0), (0, 0), (0, 0), (0, 0)]\n"
     ]
    }
   ],
   "source": [
    "for i in traceback_matrix:\n",
    "    print(i)"
   ]
  },
  {
   "cell_type": "code",
   "execution_count": 20,
   "id": "b1731963-bbdb-48a0-acff-0ead08c7b6c4",
   "metadata": {},
   "outputs": [
    {
     "name": "stdout",
     "output_type": "stream",
     "text": [
      "(0, 2)\n"
     ]
    }
   ],
   "source": [
    "print(traceback_matrix[traceback_matrix[0][4][0]][traceback_matrix[0][4][1]])"
   ]
  },
  {
   "cell_type": "markdown",
   "id": "93fb5ef2-b10a-4b33-aa12-be35204d1110",
   "metadata": {},
   "source": [
    "This is recursive"
   ]
  },
  {
   "cell_type": "markdown",
   "id": "88de6b6b-5bea-4164-b7c6-fc1f4fc1439d",
   "metadata": {},
   "source": [
    "## Calculating all positions in the calculation matrix"
   ]
  },
  {
   "cell_type": "code",
   "execution_count": 21,
   "id": "45d71b69-c215-4a0d-ad64-df4f355a29dd",
   "metadata": {},
   "outputs": [],
   "source": [
    "for i in range(len(seq1)):\n",
    "    for j in range(len(seq2)):\n",
    "        match = matrix[j][i] + sub_matrix[seq1[i]][seq2[j]]\n",
    "        gapx = matrix[j+1][i] - gap\n",
    "        gapy = matrix[j][i+1] - gap\n",
    "\n",
    "        largest_value = max(match,gapx,gapy)\n",
    "        matrix[j+1][i+1] = largest_value\n",
    "        if largest_value==match:\n",
    "            traceback_matrix[j+1][i+1] = tuple((j,i))\n",
    "        elif largest_value==gapx:\n",
    "            traceback_matrix[j+1][i+1] = tuple((j+1,i))\n",
    "        else:\n",
    "            traceback_matrix[j+1][i+1] = tuple((j,i+1))        "
   ]
  },
  {
   "cell_type": "code",
   "execution_count": 22,
   "id": "823b8e49-5106-4565-a2fd-48fa38e7759f",
   "metadata": {},
   "outputs": [
    {
     "data": {
      "text/plain": [
       "[[0, -8, -16, -24, -32, -40, -48, -56, -64, -72, -80],\n",
       " [-8, -2.0, -9.0, -17.0, -25.0, -33.0, -41.0, -49.0, -57.0, -65.0, -73.0],\n",
       " [-16, -10.0, -3.0, -5.0, -13.0, -21.0, -29.0, -37.0, -45.0, -53.0, -61.0],\n",
       " [-24, -18.0, -11.0, -6.0, -7.0, -15.0, -10.0, -18.0, -26.0, -34.0, -42.0],\n",
       " [-32, -16.0, -18.0, -13.0, -8.0, -9.0, -17.0, -12.0, -10.0, -18.0, -26.0],\n",
       " [-40, -24.0, -11.0, -19.0, -15.0, -9.0, -12.0, -19.0, -12.0, -5.0, -13.0],\n",
       " [-48, -32.0, -19.0, -7.0, -15.0, -11.0, -12.0, -12.0, -20.0, -13.0, -6.0],\n",
       " [-56, -40.0, -27.0, -15.0, -9.0, -16.0, -14.0, -14.0, -12.0, -15.0, -8.0]]"
      ]
     },
     "execution_count": 22,
     "metadata": {},
     "output_type": "execute_result"
    }
   ],
   "source": [
    "matrix"
   ]
  },
  {
   "cell_type": "code",
   "execution_count": 23,
   "id": "b3a869c4-5ff4-46f7-aefe-9170c4f4fc19",
   "metadata": {
    "scrolled": true
   },
   "outputs": [
    {
     "name": "stdout",
     "output_type": "stream",
     "text": [
      "[None, (0, 0), (0, 1), (0, 2), (0, 3), (0, 4), (0, 5), (0, 6), (0, 7), (0, 8), (0, 9)]\n",
      "[(0, 0), (0, 0), (0, 1), (0, 2), (1, 3), (0, 4), (1, 5), (1, 6), (1, 7), (0, 8), (0, 9)]\n",
      "[(1, 0), (1, 0), (1, 1), (1, 2), (2, 3), (1, 4), (2, 5), (2, 6), (2, 7), (2, 8), (2, 9)]\n",
      "[(2, 0), (2, 0), (2, 2), (2, 2), (2, 3), (3, 4), (2, 5), (3, 6), (3, 7), (3, 8), (3, 9)]\n",
      "[(3, 0), (3, 0), (3, 1), (3, 2), (3, 3), (3, 4), (3, 5), (3, 6), (3, 7), (4, 8), (4, 9)]\n",
      "[(4, 0), (4, 1), (4, 1), (4, 2), (4, 3), (4, 4), (4, 5), (4, 6), (4, 7), (4, 8), (4, 9)]\n",
      "[(5, 0), (5, 1), (5, 2), (5, 2), (6, 3), (5, 4), (5, 5), (5, 6), (6, 7), (5, 8), (5, 9)]\n",
      "[(6, 0), (6, 1), (6, 1), (6, 3), (6, 3), (6, 4), (6, 5), (6, 6), (6, 7), (6, 8), (6, 9)]\n"
     ]
    }
   ],
   "source": [
    "for i in traceback_matrix:\n",
    "    print(i)"
   ]
  },
  {
   "cell_type": "code",
   "execution_count": 24,
   "id": "5d177f36-81c2-4bdc-925d-fb84daf5f05a",
   "metadata": {},
   "outputs": [
    {
     "data": {
      "text/plain": [
       "-2.0"
      ]
     },
     "execution_count": 24,
     "metadata": {},
     "output_type": "execute_result"
    }
   ],
   "source": [
    "sub_matrix[seq1[0]][seq2[0]]"
   ]
  },
  {
   "cell_type": "code",
   "execution_count": 25,
   "id": "35c8ab13-f219-4649-8026-daa3d90d3691",
   "metadata": {},
   "outputs": [],
   "source": [
    "def traceback1(coords):\n",
    "    if traceback_matrix[coords[0]][coords[1]] is None:\n",
    "        return \"\"\n",
    "    else:\n",
    "        back = traceback_matrix[coords[0]][coords[1]]\n",
    "        if (coords[1]-back[1])==1:\n",
    "            return traceback1(back) + seq1[coords[1]-1]\n",
    "        elif (coords[1]-back[1])==0:\n",
    "            return traceback1(back) + \"-\""
   ]
  },
  {
   "cell_type": "code",
   "execution_count": 26,
   "id": "338252c3-9d7b-40c7-8ffc-891b82e94564",
   "metadata": {},
   "outputs": [],
   "source": [
    "def traceback2(coords):\n",
    "    if traceback_matrix[coords[0]][coords[1]] is None:\n",
    "        return \"\"\n",
    "    else:\n",
    "        back = traceback_matrix[coords[0]][coords[1]]\n",
    "        if (coords[0]-back[0])==1:\n",
    "            return traceback2(back) + seq2[coords[0]-1]\n",
    "        elif (coords[0]-back[0])==0:\n",
    "            return traceback2(back) + \"-\""
   ]
  },
  {
   "cell_type": "code",
   "execution_count": 27,
   "id": "16e595f2-447c-4cd5-b272-c07cdc79f62e",
   "metadata": {},
   "outputs": [],
   "source": [
    "answer1 = traceback1((len(seq2),len(seq1)))\n",
    "answer2 = traceback2((len(seq2),len(seq1)))"
   ]
  },
  {
   "cell_type": "code",
   "execution_count": 28,
   "id": "e804a642-a542-4d43-9372-c02b9eecab99",
   "metadata": {},
   "outputs": [
    {
     "data": {
      "text/plain": [
       "'HEAGAWGHEE'"
      ]
     },
     "execution_count": 28,
     "metadata": {},
     "output_type": "execute_result"
    }
   ],
   "source": [
    "answer1"
   ]
  },
  {
   "cell_type": "code",
   "execution_count": 29,
   "id": "ad8bb47f-dbb7-4395-88c9-2e0649c61985",
   "metadata": {},
   "outputs": [
    {
     "data": {
      "text/plain": [
       "'--P-AWHEAE'"
      ]
     },
     "execution_count": 29,
     "metadata": {},
     "output_type": "execute_result"
    }
   ],
   "source": [
    "answer2"
   ]
  },
  {
   "cell_type": "code",
   "execution_count": 30,
   "id": "1e8c883a-fc90-4a8c-b71f-baf5f4db39ff",
   "metadata": {},
   "outputs": [
    {
     "name": "stdout",
     "output_type": "stream",
     "text": [
      "These are your original sequences:\n",
      "HEAGAWGHEE\n",
      "PAWHEAE\n",
      "\n",
      "These are the aligned sequences:\n",
      "HEAGAWGHEE\n",
      "--P-AWHEAE\n"
     ]
    }
   ],
   "source": [
    "print(\"These are your original sequences:\")\n",
    "print(seq1)\n",
    "print(seq2)\n",
    "print()\n",
    "print(\"These are the aligned sequences:\")\n",
    "print(answer1)\n",
    "print(answer2)"
   ]
  },
  {
   "cell_type": "code",
   "execution_count": null,
   "id": "e108eeca-9091-49b9-808e-aeb757f017b2",
   "metadata": {},
   "outputs": [],
   "source": []
  }
 ],
 "metadata": {
  "kernelspec": {
   "display_name": "Python 3 (ipykernel)",
   "language": "python",
   "name": "python3"
  },
  "language_info": {
   "codemirror_mode": {
    "name": "ipython",
    "version": 3
   },
   "file_extension": ".py",
   "mimetype": "text/x-python",
   "name": "python",
   "nbconvert_exporter": "python",
   "pygments_lexer": "ipython3",
   "version": "3.9.7"
  }
 },
 "nbformat": 4,
 "nbformat_minor": 5
}
